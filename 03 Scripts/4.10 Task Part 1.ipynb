{
 "cells": [
  {
   "cell_type": "markdown",
   "id": "c773cdea",
   "metadata": {},
   "source": [
    "# 4.10 Tasks part 1\n",
    "\n",
    "#### 1. import libraries and dataframes\n",
    "\n",
    "#### 2. Address PII data\n",
    "\n",
    "#### 3. Regional segmentation\n",
    "\n",
    "#### 4. Exclusion of low activity customers\n",
    "\n",
    "#### 5. Customer profiling\n",
    "\n",
    "#### 6. Compare customer profiles with regions\n",
    "\n",
    "#### 7. Compare customer profiles with departments\n",
    "\n",
    "## 1. Import libraries and dataframes"
   ]
  },
  {
   "cell_type": "code",
   "execution_count": null,
   "id": "5f2771c6",
   "metadata": {},
   "outputs": [],
   "source": [
    "# Import libraries\n",
    "import pandas as pd\n",
    "import numpy as np\n",
    "import os\n",
    "import matplotlib.pyplot as plt\n",
    "import seaborn as sns\n",
    "import scipy"
   ]
  },
  {
   "cell_type": "code",
   "execution_count": null,
   "id": "65579107",
   "metadata": {},
   "outputs": [],
   "source": [
    "#set scripts path in variable 'path'\n",
    "path = r'/Users/constantinmelachrinos/Documents/careerfoundry data analyst/Course files/Data Analytics Immersion/Achievement 4 - InstaCart - Python/Instacart Basket Analysis'\n",
    "\n",
    "#import Instacart data_sets\n",
    "ords_prods_cust = pd.read_pickle(os.path.join(path, '02 Data', 'Prepared Data', 'orders_products_customers_combined.pkl'))\n",
    "df_departments = pd.read_csv(os.path.join(path, '02 Data', 'Prepared Data', 'departments_wrangled.csv'))"
   ]
  },
  {
   "cell_type": "markdown",
   "id": "09fae8e2",
   "metadata": {},
   "source": [
    "# 2. Address PII data"
   ]
  },
  {
   "cell_type": "code",
   "execution_count": null,
   "id": "b364abe0",
   "metadata": {},
   "outputs": [],
   "source": [
    "#first have a look at the dataframe for completness\n",
    "ords_prods_cust.head()"
   ]
  },
  {
   "cell_type": "markdown",
   "id": "b23917af",
   "metadata": {},
   "source": [
    "### PII data which has to be addressed are first and last names in the dataframe. These columns have to be deleted."
   ]
  },
  {
   "cell_type": "code",
   "execution_count": null,
   "id": "ed5f55eb",
   "metadata": {},
   "outputs": [],
   "source": [
    "# dropping columns 'first_name', 'last_name' and '_merge' columns\n",
    "ords_prods_cust=ords_prods_cust.drop(['first_name','last_name','_merge'], axis=1)"
   ]
  },
  {
   "cell_type": "code",
   "execution_count": null,
   "id": "bfde5fbf",
   "metadata": {},
   "outputs": [],
   "source": [
    "#check if executed correctly\n",
    "ords_prods_cust.columns"
   ]
  },
  {
   "cell_type": "markdown",
   "id": "7f1ec528",
   "metadata": {},
   "source": [
    "# 3. Regional segmentation \n",
    "### 3.1 Create a regional segmentation of the data. You’ll need to create a “Region” column based on the “State” column from your customers data set."
   ]
  },
  {
   "cell_type": "code",
   "execution_count": null,
   "id": "f27d1e50",
   "metadata": {},
   "outputs": [],
   "source": [
    "#Create list of regions.First Northeast\n",
    "northeast=['Maine','New Hampshire','Vermont','Massachusetts','Rhode Island','Connecticut','New York','Pennsylvania','New Jersey']"
   ]
  },
  {
   "cell_type": "code",
   "execution_count": null,
   "id": "3422401f",
   "metadata": {},
   "outputs": [],
   "source": [
    "#Create list of regions. Second Midwest\n",
    "midwest=['Wisconsin','Michigan','Illinois','Indiana','Ohio','North Dakota','South Dakota','Nebraska','Kansas','Minnesota','Iowa','Missouri']"
   ]
  },
  {
   "cell_type": "code",
   "execution_count": null,
   "id": "8e4975f8",
   "metadata": {},
   "outputs": [],
   "source": [
    "#Create list of regions. Third South\n",
    "south=['Delaware','Maryland','District of Columbia','Virginia','West Virginia','North Carolina','South Carolina','Georgia','Florida','Kentucky','Tennessee','Mississippi','Alabama','Oklahoma','Texas','Arkansas','Louisiana']"
   ]
  },
  {
   "cell_type": "code",
   "execution_count": null,
   "id": "4eaa20b3",
   "metadata": {},
   "outputs": [],
   "source": [
    "#Create list of regions. Fourth West\n",
    "west=['Idaho','Montana','Wyoming','Nevada','Utah','Colorado','Arizona','New Mexico','Alaska','Washington','Oregon','California','Hawaii']"
   ]
  },
  {
   "cell_type": "code",
   "execution_count": null,
   "id": "9d57f5fa",
   "metadata": {},
   "outputs": [],
   "source": [
    "#loc function for regional segmentation by producing an additional column named 'region'\n",
    "ords_prods_cust.loc[ords_prods_cust['state'].isin(northeast), 'region'] = 'Northeast'\n",
    "ords_prods_cust.loc[ords_prods_cust['state'].isin(midwest), 'region'] = 'Midwest'\n",
    "ords_prods_cust.loc[ords_prods_cust['state'].isin(south), 'region'] = 'South'\n",
    "ords_prods_cust.loc[ords_prods_cust['state'].isin(west), 'region'] = 'West'"
   ]
  },
  {
   "cell_type": "code",
   "execution_count": null,
   "id": "186eb32a",
   "metadata": {},
   "outputs": [],
   "source": [
    "#Check frquency of the different regions\n",
    "ords_prods_cust['region'].value_counts(dropna=False)"
   ]
  },
  {
   "cell_type": "markdown",
   "id": "a4b26544",
   "metadata": {},
   "source": [
    "### 3.2 Determine whether there’s a difference in spending habits between the different U.S. regions."
   ]
  },
  {
   "cell_type": "code",
   "execution_count": null,
   "id": "7672809a",
   "metadata": {},
   "outputs": [],
   "source": [
    "#crosstab the 'region' column with the 'spending_behaviour' column\n",
    "crosstab = pd.crosstab(ords_prods_cust['region'], ords_prods_cust['spending_behaviour'], dropna = False)"
   ]
  },
  {
   "cell_type": "code",
   "execution_count": null,
   "id": "98f61364",
   "metadata": {},
   "outputs": [],
   "source": [
    "#check outcome\n",
    "crosstab"
   ]
  },
  {
   "cell_type": "markdown",
   "id": "b0b5ec28",
   "metadata": {},
   "source": [
    "# 4. Exclusion of low activity customers\n",
    "### 4.1 The Instacart CFO isn’t interested in customers who don’t generate much revenue for the app. Create an exclusion flag for low-activity customers (customers with less than 5 orders) and exclude them from the data."
   ]
  },
  {
   "cell_type": "code",
   "execution_count": null,
   "id": "e6de0d88",
   "metadata": {},
   "outputs": [],
   "source": [
    "#check max order column\n",
    "ords_prods_cust[['max_order']]"
   ]
  },
  {
   "cell_type": "code",
   "execution_count": null,
   "id": "f58ee945",
   "metadata": {},
   "outputs": [],
   "source": [
    "# Create flag on basis of 'max_order' column.\n",
    "ords_prods_cust.loc[ords_prods_cust['max_order'] < 5, 'activity'] = 'low'\n",
    "ords_prods_cust.loc[ords_prods_cust['max_order'] >= 5, 'activity'] = 'high'"
   ]
  },
  {
   "cell_type": "code",
   "execution_count": null,
   "id": "2a7a15a6",
   "metadata": {},
   "outputs": [],
   "source": [
    "#exclude low activity customers in extra data frame called df_low_activity\n",
    "df_low_activity = ords_prods_cust[ords_prods_cust['activity']=='low']"
   ]
  },
  {
   "cell_type": "code",
   "execution_count": null,
   "id": "95fb912c",
   "metadata": {},
   "outputs": [],
   "source": [
    "df_low_activity.head()"
   ]
  },
  {
   "cell_type": "markdown",
   "id": "1359dda4",
   "metadata": {},
   "source": [
    "### 4.2 Export low activity sample data frame"
   ]
  },
  {
   "cell_type": "code",
   "execution_count": null,
   "id": "169fa1ae",
   "metadata": {},
   "outputs": [],
   "source": [
    "#export dataframe\n",
    "df_low_activity.to_pickle(os.path.join(path, '02 Data', 'Prepared Data', 'customers_low_activity.pkl'))"
   ]
  },
  {
   "cell_type": "markdown",
   "id": "7460cac7",
   "metadata": {},
   "source": [
    "# 5. Customer profiling\n",
    "### 5.1.1 Age profiling (Young, mid-aged, senior)\n",
    "### 5.1.2 Create an appropriate visualization to show the distribution of profiles.\n",
    "### 5.1.3 Aggregate the max, mean, and min variables on a customer-profile level for usage frequency and expenditure."
   ]
  },
  {
   "cell_type": "markdown",
   "id": "632daa25",
   "metadata": {},
   "source": [
    "### 5.1.1 Age profiling (Young, mid-aged, senior)"
   ]
  },
  {
   "cell_type": "code",
   "execution_count": null,
   "id": "c506b53c",
   "metadata": {},
   "outputs": [],
   "source": [
    "# Create flag on basis of 'age' column.\n",
    "ords_prods_cust.loc[ords_prods_cust['age'] <= 30 , 'age_group'] = 'Young'\n",
    "ords_prods_cust.loc[(ords_prods_cust['age'] > 30) & (ords_prods_cust['age'] < 60),  'age_group'] = 'Mid-age'\n",
    "ords_prods_cust.loc[ords_prods_cust['age'] >= 60 , 'age_group'] = 'Senior'"
   ]
  },
  {
   "cell_type": "code",
   "execution_count": null,
   "id": "d6401d67",
   "metadata": {},
   "outputs": [],
   "source": [
    "# frequency of each age group\n",
    "ords_prods_cust['age_group'].value_counts(dropna=False)"
   ]
  },
  {
   "cell_type": "markdown",
   "id": "0b056821",
   "metadata": {},
   "source": [
    "### 5.1.2 Create an appropriate visualization to show the distribution of profiles."
   ]
  },
  {
   "cell_type": "code",
   "execution_count": null,
   "id": "8209cdb2",
   "metadata": {},
   "outputs": [],
   "source": [
    "#create bar chart distribution of age groups\n",
    "\n",
    "#define chart size\n",
    "plt.figure(figsize=(10, 6))\n",
    "\n",
    "# define Seaborn color palette to use \n",
    "palette_color = ['#228B22','#32CD32','#90EE90']\n",
    "\n",
    "#define column chart\n",
    "bar_comp_age=sns.countplot(x = 'age_group', \n",
    "            data = ords_prods_cust, \n",
    "            palette=palette_color)\n",
    "bar_comp_age.set(\n",
    "            xlabel='Age groups',\n",
    "            ylabel='Frequency in Millions')\n",
    "\n",
    "#format the ticks on the y-axis since the frequency is in Millions\n",
    "ylabels = ['{:,.2f}'.format(y) + 'M' for y in bar_comp_age.get_yticks()/1000000]\n",
    "bar_comp_age.set_yticklabels(ylabels)\n",
    "\n",
    "plt.title('Distribution of Age Groups', weight='bold').set_fontsize('18')\n",
    "#export visualization\n",
    "plt.savefig(os.path.join(path, '04 Analysis','Visualizations', 'bar_age_goups.png'))"
   ]
  },
  {
   "cell_type": "markdown",
   "id": "7d32953c",
   "metadata": {},
   "source": [
    "### 5.1.3 Aggregate the max, mean, and min variables on a customer-profile level for usage frequency and expenditure."
   ]
  },
  {
   "cell_type": "code",
   "execution_count": null,
   "id": "983a983b",
   "metadata": {},
   "outputs": [],
   "source": [
    "#Aggregate the usage frequency\n",
    "ords_prods_cust.groupby('age_group').agg({'median_days_since_prior_order':['max', 'mean', 'min']})"
   ]
  },
  {
   "cell_type": "code",
   "execution_count": null,
   "id": "193fa34f",
   "metadata": {},
   "outputs": [],
   "source": [
    "#Aggregate the spending\n",
    "ords_prods_cust.groupby('age_group').agg({'prices':['max', 'mean', 'min']})"
   ]
  },
  {
   "cell_type": "code",
   "execution_count": null,
   "id": "af0ff4eb",
   "metadata": {},
   "outputs": [],
   "source": [
    "ords_prods_cust.groupby('age_group').agg({'order_hour_of_day':['max','mean','min']})"
   ]
  },
  {
   "cell_type": "markdown",
   "id": "0d1165d2",
   "metadata": {},
   "source": [
    "### 5.2.1 Income profiling"
   ]
  },
  {
   "cell_type": "code",
   "execution_count": null,
   "id": "0ecda3fd",
   "metadata": {},
   "outputs": [],
   "source": [
    "# Create flag on basis of 'income' column.\n",
    "ords_prods_cust.loc[ords_prods_cust['income'] <= 48000 , 'level_income'] = 'Low income'\n",
    "ords_prods_cust.loc[(ords_prods_cust['income'] > 48000) & (ords_prods_cust['income'] < 145000),  'level_income'] = 'Middle income'\n",
    "ords_prods_cust.loc[ords_prods_cust['income'] >= 145000 , 'level_income'] = 'High income'"
   ]
  },
  {
   "cell_type": "markdown",
   "id": "ba356bda",
   "metadata": {},
   "source": [
    "### source of differentiating the income level see here:\n",
    "### https://www.pewresearch.org/short-reads/2020/07/23/are-you-in-the-american-middle-class/#:~:text=In%202018%2C%20the%20national%20middle,(incomes%20in%202018%20dollars)"
   ]
  },
  {
   "cell_type": "code",
   "execution_count": null,
   "id": "031d1ca4",
   "metadata": {},
   "outputs": [],
   "source": [
    "# frequency of each income level group\n",
    "ords_prods_cust['level_income'].value_counts(dropna=False)"
   ]
  },
  {
   "cell_type": "markdown",
   "id": "95da9487",
   "metadata": {},
   "source": [
    "### 5.2.2 Create an appropriate visualization to show the distribution of profiles."
   ]
  },
  {
   "cell_type": "code",
   "execution_count": null,
   "id": "5384f531",
   "metadata": {},
   "outputs": [],
   "source": [
    "# declaring exploding pie \n",
    "explode = [0.1, 0, 0] \n",
    "# define Seaborn color palette to use \n",
    "palette_color = ['#228B22','#32CD32','#90EE90']\n",
    "# plotting data on chart\n",
    "plt.figure(figsize=(10, 6))\n",
    "plt.pie(ords_prods_cust['level_income'].value_counts(), \n",
    "        labels=ords_prods_cust['level_income'].value_counts().index, \n",
    "        colors=palette_color, \n",
    "        explode=explode, \n",
    "        autopct='%.0f%%',\n",
    "        wedgeprops = {'edgecolor' : 'black'})\n",
    "plt.title('Distribution of Customers by Income',weight='bold').set_fontsize('18')\n",
    "#export visualization\n",
    "plt.savefig(os.path.join(path, '04 Analysis','Visualizations', 'pie_income.png'))"
   ]
  },
  {
   "cell_type": "markdown",
   "id": "3b4d6819",
   "metadata": {},
   "source": [
    "### 5.2.3 Aggregate the max, mean, and min variables on a customer-profile level for usage frequency and expenditure."
   ]
  },
  {
   "cell_type": "code",
   "execution_count": null,
   "id": "9ec7f96f",
   "metadata": {},
   "outputs": [],
   "source": [
    "#Aggregate the usage frequency\n",
    "ords_prods_cust.groupby('level_income').agg({'median_days_since_prior_order':['max', 'mean', 'min']})"
   ]
  },
  {
   "cell_type": "code",
   "execution_count": null,
   "id": "513271ff",
   "metadata": {},
   "outputs": [],
   "source": [
    "#Aggregate the spending\n",
    "ords_prods_cust.groupby('level_income').agg({'prices':['max', 'mean', 'min']})"
   ]
  },
  {
   "cell_type": "markdown",
   "id": "24266cd4",
   "metadata": {},
   "source": [
    "### 5.3.1 Certain goods in 'department_id' column profiling"
   ]
  },
  {
   "cell_type": "code",
   "execution_count": null,
   "id": "2fa27af5",
   "metadata": {},
   "outputs": [],
   "source": [
    "#check departments\n",
    "df_departments"
   ]
  },
  {
   "cell_type": "markdown",
   "id": "b0c553f3",
   "metadata": {},
   "source": [
    "#### Since i am an animal lover i would like to profile customers on their buying behaviour how many of the customers have a pet at home"
   ]
  },
  {
   "cell_type": "code",
   "execution_count": null,
   "id": "2f806acd",
   "metadata": {},
   "outputs": [],
   "source": [
    "# Create flag on basis of 'department_id' = 7 column.\n",
    "ords_prods_cust.loc[ords_prods_cust['department_id'] == 8 , 'pets'] = 'Pets'\n",
    "ords_prods_cust.loc[ords_prods_cust['department_id'] != 8 , 'pets'] = 'No pets'"
   ]
  },
  {
   "cell_type": "code",
   "execution_count": null,
   "id": "632662e9",
   "metadata": {},
   "outputs": [],
   "source": [
    "# frequency of each 'pets' group\n",
    "ords_prods_cust['pets'].value_counts(dropna=False)"
   ]
  },
  {
   "cell_type": "markdown",
   "id": "8b220eba",
   "metadata": {},
   "source": [
    "### 5.3.2 Create an appropriate visualization to show the distribution of profiles."
   ]
  },
  {
   "cell_type": "code",
   "execution_count": null,
   "id": "4e943475",
   "metadata": {},
   "outputs": [],
   "source": [
    "# declaring exploding pie \n",
    "explode = [0.1, 0]\n",
    "# define Seaborn color palette to use \n",
    "palette_color = ['#228B22','#32CD32']\n",
    "# plotting data on chart\n",
    "plt.figure(figsize=(10, 6))\n",
    "plt.pie(ords_prods_cust['pets'].value_counts(), \n",
    "        labels=ords_prods_cust['pets'].value_counts().index, \n",
    "        colors=palette_color, \n",
    "        explode=explode, \n",
    "        autopct='%.0f%%',\n",
    "        wedgeprops = {'edgecolor' : 'black'})\n",
    "plt.title('Instacart Distribution of Customers buying pet products',weight='bold').set_fontsize('18')\n",
    "#export visualization\n",
    "plt.savefig(os.path.join(path, '04 Analysis','Visualizations', 'pie_pets.png'))"
   ]
  },
  {
   "cell_type": "markdown",
   "id": "c77b7453",
   "metadata": {},
   "source": [
    "### 5.3.3 Aggregate the max, mean, and min variables on a customer-profile level for usage frequency and expenditure."
   ]
  },
  {
   "cell_type": "code",
   "execution_count": null,
   "id": "af587c20",
   "metadata": {},
   "outputs": [],
   "source": [
    "#Aggregate the usage frequency\n",
    "ords_prods_cust.groupby('pets').agg({'median_days_since_prior_order':['max', 'mean', 'min']})"
   ]
  },
  {
   "cell_type": "code",
   "execution_count": null,
   "id": "aa885216",
   "metadata": {},
   "outputs": [],
   "source": [
    "#Aggregate the spending\n",
    "ords_prods_cust.groupby('pets').agg({'prices':['max', 'mean', 'min']})"
   ]
  },
  {
   "cell_type": "markdown",
   "id": "17889429",
   "metadata": {},
   "source": [
    "### 5.4.1 Profiling customers on dependants"
   ]
  },
  {
   "cell_type": "code",
   "execution_count": null,
   "id": "0f816f7b",
   "metadata": {},
   "outputs": [],
   "source": [
    "# Create flag on basis of 'dependants' column.\n",
    "ords_prods_cust.loc[ords_prods_cust['n_dependants'] > 0 , 'dependants'] = 'Has dependants'\n",
    "ords_prods_cust.loc[ords_prods_cust['n_dependants'] == 0 , 'dependants'] = 'No dependants'"
   ]
  },
  {
   "cell_type": "code",
   "execution_count": null,
   "id": "00525ae3",
   "metadata": {},
   "outputs": [],
   "source": [
    "# frequency of each 'dependants' group\n",
    "ords_prods_cust['dependants'].value_counts(dropna=False)"
   ]
  },
  {
   "cell_type": "markdown",
   "id": "1087f887",
   "metadata": {},
   "source": [
    "### 5.4.2 Create an appropriate visualization to show the distribution of profiles."
   ]
  },
  {
   "cell_type": "code",
   "execution_count": null,
   "id": "1800350e",
   "metadata": {},
   "outputs": [],
   "source": [
    "# declaring exploding pie \n",
    "explode = [0.1, 0]\n",
    "# define Seaborn color palette to use \n",
    "palette_color = ['#228B22','#32CD32']\n",
    "# plotting data on chart\n",
    "plt.figure(figsize=(10, 6))\n",
    "plt.pie(ords_prods_cust['dependants'].value_counts(), \n",
    "        labels=ords_prods_cust['dependants'].value_counts().index, \n",
    "        colors=palette_color, \n",
    "        explode=explode, \n",
    "        autopct='%.0f%%',\n",
    "        wedgeprops = {'edgecolor' : 'black'})\n",
    "plt.title('Instacart Distribution of Customers based on Dependants',weight='bold').set_fontsize('18')\n",
    "#export visualization\n",
    "plt.savefig(os.path.join(path, '04 Analysis','Visualizations', 'pie_dependants.png'))"
   ]
  },
  {
   "cell_type": "markdown",
   "id": "30f42ce4",
   "metadata": {},
   "source": [
    "### 5.4.3 Aggregate the max, mean, and min variables on a customer-profile level for usage frequency and expenditure."
   ]
  },
  {
   "cell_type": "code",
   "execution_count": null,
   "id": "d6b7b52e",
   "metadata": {},
   "outputs": [],
   "source": [
    "#Aggregate the usage frequency\n",
    "ords_prods_cust.groupby('dependants').agg({'median_days_since_prior_order':['max', 'mean', 'min']})"
   ]
  },
  {
   "cell_type": "code",
   "execution_count": null,
   "id": "057b5567",
   "metadata": {},
   "outputs": [],
   "source": [
    "#Aggregate the spending\n",
    "ords_prods_cust.groupby('dependants').agg({'prices':['max', 'mean', 'min']})"
   ]
  },
  {
   "cell_type": "markdown",
   "id": "bfe0ab77",
   "metadata": {},
   "source": [
    "# 6. Compare customer profiles with regions and departments\n"
   ]
  },
  {
   "cell_type": "code",
   "execution_count": null,
   "id": "41c1cce6",
   "metadata": {},
   "outputs": [],
   "source": [
    "#copy only relevant columns in sample dataframe to save time and processor capacity\n",
    "df_sample = ords_prods_cust[['user_id', 'age_group', 'level_income', 'dependants', 'region', 'pets']]"
   ]
  },
  {
   "cell_type": "markdown",
   "id": "ba1cbf84",
   "metadata": {},
   "source": [
    "## 6.1 Compare customer profiles with regions\n",
    "\n",
    "### 6.1.1 Age groups"
   ]
  },
  {
   "cell_type": "code",
   "execution_count": null,
   "id": "bbd7a09e",
   "metadata": {},
   "outputs": [],
   "source": [
    "#create bar chart with comparison of age groups in different regions\n",
    "\n",
    "plt.figure(figsize=(10, 6))\n",
    "# define Seaborn color palette to use \n",
    "palette_color = ['#228B22','#32CD32','#90EE90']\n",
    "#define column chart\n",
    "bar_comp_age=sns.countplot(x = 'region', \n",
    "            hue = 'age_group',\n",
    "            data = df_sample, \n",
    "            palette=palette_color)\n",
    "bar_comp_age.set(\n",
    "            xlabel='Regions',\n",
    "            ylabel='Frequency')\n",
    "plt.title('Comparison Age Groups vs Regions', weight='bold').set_fontsize('18')\n",
    "#export visualization\n",
    "plt.savefig(os.path.join(path, '04 Analysis','Visualizations', 'bar_comp_age_regions.png'))"
   ]
  },
  {
   "cell_type": "markdown",
   "id": "43b3d12a",
   "metadata": {},
   "source": [
    "### Conclusion: \n",
    "#### over all regions most customers are in the mid aged group. Follow up are the seniors. And on third place young people. Why young people on third place may could mean that they dont earn as much as the mid-aged and seniors and/or still live at home and dont have to buy the groceries themselves."
   ]
  },
  {
   "cell_type": "markdown",
   "id": "b2026b4a",
   "metadata": {},
   "source": [
    "### 6.1.2 Income groups"
   ]
  },
  {
   "cell_type": "code",
   "execution_count": null,
   "id": "ed38207c",
   "metadata": {},
   "outputs": [],
   "source": [
    "#create bar chart with comparison of age groups in different regions\n",
    "\n",
    "plt.figure(figsize=(10, 6))\n",
    "# define Seaborn color palette to use \n",
    "palette_color = ['#228B22','#32CD32','#90EE90']\n",
    "#define column chart\n",
    "bar_comp_age=sns.countplot(x = 'region', \n",
    "            hue = 'level_income',\n",
    "            data = df_sample, \n",
    "            palette=palette_color)\n",
    "bar_comp_age.set(\n",
    "            xlabel='Regions',\n",
    "            ylabel='Frequency')\n",
    "plt.title('Comparison Income groups in different Regions', weight='bold').set_fontsize('18')\n",
    "#export visualization\n",
    "plt.savefig(os.path.join(path, '04 Analysis','Visualizations', 'bar_comp_income_regions.png'))"
   ]
  },
  {
   "cell_type": "markdown",
   "id": "a82e183f",
   "metadata": {},
   "source": [
    "### Conclusion: \n",
    "#### over all regions most customers are in the middle income group which makes the majority of the customers. This makes total sence and displays a healthy economy where the middle class rules the majority of the market, which is an indication of a strong economy in the country."
   ]
  },
  {
   "cell_type": "markdown",
   "id": "789a286a",
   "metadata": {},
   "source": [
    "### 6.1.3 Pet lover groups"
   ]
  },
  {
   "cell_type": "code",
   "execution_count": null,
   "id": "241e4629",
   "metadata": {},
   "outputs": [],
   "source": [
    "#create bar chart with comparison of pet lovers in different regions\n",
    "\n",
    "plt.figure(figsize=(10, 6))\n",
    "# define Seaborn color palette to use \n",
    "palette_color = ['#228B22','#32CD32','#90EE90']\n",
    "#define column chart\n",
    "bar_comp_age=sns.countplot(x = 'region', \n",
    "            hue = 'pets',\n",
    "            data = df_sample, \n",
    "            palette=palette_color)\n",
    "bar_comp_age.set(\n",
    "            xlabel='Regions',\n",
    "            ylabel='Frequency')\n",
    "plt.title('Comparison Pet lovers in different Regions', weight='bold').set_fontsize('18')\n",
    "#export visualization\n",
    "plt.savefig(os.path.join(path, '04 Analysis','Visualizations', 'bar_comp_pet_regions.png'))"
   ]
  },
  {
   "cell_type": "markdown",
   "id": "022d3772",
   "metadata": {},
   "source": [
    "### Conclusion: \n",
    "#### All over the regions the majority of people dont have pets or dont buy pet products."
   ]
  },
  {
   "cell_type": "markdown",
   "id": "27cf166b",
   "metadata": {},
   "source": [
    "### 6.1.4 Dependants groups"
   ]
  },
  {
   "cell_type": "code",
   "execution_count": null,
   "id": "46cee741",
   "metadata": {},
   "outputs": [],
   "source": [
    "#create bar chart with comparison of dependants in different regions\n",
    "\n",
    "plt.figure(figsize=(10, 6))\n",
    "# define Seaborn color palette to use \n",
    "palette_color = ['#228B22','#32CD32','#90EE90']\n",
    "#define column chart\n",
    "bar_comp_age=sns.countplot(x = 'region', \n",
    "            hue = 'dependants',\n",
    "            data = df_sample, \n",
    "            palette=palette_color)\n",
    "bar_comp_age.set(\n",
    "            xlabel='Regions',\n",
    "            ylabel='Frequency')\n",
    "plt.title('Comparison Dependants in different Regions', weight='bold').set_fontsize('18')\n",
    "#export visualization\n",
    "plt.savefig(os.path.join(path, '04 Analysis','Visualizations', 'bar_comp_dependants_regions.png'))"
   ]
  },
  {
   "cell_type": "markdown",
   "id": "2c1da1ea",
   "metadata": {},
   "source": [
    "### Conclusion:\n",
    "#### All over all regions the most customers have dependants. The most are in the South and the least in the Northeast. "
   ]
  },
  {
   "cell_type": "markdown",
   "id": "c663dd74",
   "metadata": {},
   "source": [
    "### Overall conclusion of the findings in the above visualizations:\n",
    "#### The overall picture is quite proportional to eachother and there is no significant trend or insight. Maybe if we compare the population count in each region to the customers in percentage and rerun the analysis it could be that we could find some trend."
   ]
  },
  {
   "cell_type": "markdown",
   "id": "a03b4fb9",
   "metadata": {},
   "source": [
    "## 7. Compare customer profiles with departments"
   ]
  },
  {
   "cell_type": "markdown",
   "id": "688cc666",
   "metadata": {},
   "source": [
    "## 7.1 Merge dataframe with departments dataframe\n",
    "### Before we can go any further with producing visuals we need to merge the department dataframe with the ords_prods_cust dataframe to analyse the comparison between customers with the different departments "
   ]
  },
  {
   "cell_type": "code",
   "execution_count": null,
   "id": "875e8d7a",
   "metadata": {},
   "outputs": [],
   "source": [
    "#check departments\n",
    "df_departments.head()"
   ]
  },
  {
   "cell_type": "code",
   "execution_count": null,
   "id": "c0db0157",
   "metadata": {},
   "outputs": [],
   "source": [
    "#check types in department_id dataframe\n",
    "df_departments.dtypes"
   ]
  },
  {
   "cell_type": "code",
   "execution_count": null,
   "id": "f3f470d9",
   "metadata": {},
   "outputs": [],
   "source": [
    "#rename column unnamed to department_id\n",
    "df_departments.rename(columns={'Unnamed: 0': 'department_id'},inplace=True)"
   ]
  },
  {
   "cell_type": "code",
   "execution_count": null,
   "id": "ffea3322",
   "metadata": {},
   "outputs": [],
   "source": [
    "#check if types of departmen_id in both dataframes are the same\n",
    "df_departments.head()"
   ]
  },
  {
   "cell_type": "code",
   "execution_count": null,
   "id": "54b18221",
   "metadata": {},
   "outputs": [],
   "source": [
    "ords_prods_cust['department_id'].dtypes == df_departments['department_id'].dtypes"
   ]
  },
  {
   "cell_type": "code",
   "execution_count": null,
   "id": "9f98caa1",
   "metadata": {},
   "outputs": [],
   "source": [
    "ords_prods_cust['department_id'].value_counts(dropna=False)"
   ]
  },
  {
   "cell_type": "code",
   "execution_count": null,
   "id": "24d504f1",
   "metadata": {},
   "outputs": [],
   "source": [
    "#Merge the two dataframes on department_id\n",
    "complete_data = ords_prods_cust.merge(df_departments, on = 'department_id', indicator = True, how = 'inner')"
   ]
  },
  {
   "cell_type": "code",
   "execution_count": null,
   "id": "c3f769a2",
   "metadata": {},
   "outputs": [],
   "source": [
    "#Check if merge was succesful\n",
    "complete_data['department'].value_counts(dropna=False)"
   ]
  },
  {
   "cell_type": "code",
   "execution_count": null,
   "id": "1432b548",
   "metadata": {},
   "outputs": [],
   "source": [
    "# Drop '_merge' flag\n",
    "complete_data=complete_data.drop('_merge', axis = 1)"
   ]
  },
  {
   "cell_type": "code",
   "execution_count": null,
   "id": "8a3e0969",
   "metadata": {},
   "outputs": [],
   "source": [
    "complete_data.head()"
   ]
  },
  {
   "cell_type": "markdown",
   "id": "a1f494cd",
   "metadata": {},
   "source": [
    "## 7.2 Compare age groups with departments"
   ]
  },
  {
   "cell_type": "code",
   "execution_count": null,
   "id": "d1a336d7",
   "metadata": {},
   "outputs": [],
   "source": [
    "#create bar chart with comparison of age groups to departments. Show the top 10 departments per age group\n",
    "\n",
    "plt.figure(figsize=(10, 6))\n",
    "# define Seaborn color palette to use \n",
    "palette_color = ['#228B22','#32CD32','#90EE90']\n",
    "#define column chart\n",
    "bar_age_department=sns.countplot(y = 'department', \n",
    "            hue = 'age_group',\n",
    "            data = complete_data, \n",
    "            palette=palette_color,\n",
    "            order = complete_data['department'].value_counts().iloc[:10].index)\n",
    "bar_age_department.set(\n",
    "            xlabel='Counts',\n",
    "            ylabel='Departments')\n",
    "plt.title('Comparison Age Groups and Departments', weight='bold').set_fontsize('18')\n",
    "#export visualization\n",
    "plt.savefig(os.path.join(path, '04 Analysis','Visualizations', 'bar_compe_age_departments.png'))"
   ]
  },
  {
   "cell_type": "markdown",
   "id": "eb92ea85",
   "metadata": {},
   "source": [
    "### Conclusion: No real difference between the age groups compared to the departments. I would have expected that there would be a significant difference between the age groups. Young people tend to eat more unhealthy and cheap food."
   ]
  },
  {
   "cell_type": "markdown",
   "id": "0ac19fca",
   "metadata": {},
   "source": [
    "## 7.3 Compare income with departments"
   ]
  },
  {
   "cell_type": "code",
   "execution_count": null,
   "id": "1baecec7",
   "metadata": {},
   "outputs": [],
   "source": [
    "sample_data_low_income=complete_data[complete_data['level_income']=='Low income']"
   ]
  },
  {
   "cell_type": "code",
   "execution_count": null,
   "id": "5561cc01",
   "metadata": {},
   "outputs": [],
   "source": [
    "#create bar chart showing comparison of low income customers on departments\n",
    "\n",
    "plt.figure(figsize=(10, 6))\n",
    "# define Seaborn color palette to use \n",
    "palette_color = ['#32CD32']\n",
    "#define column chart\n",
    "bar_department=sns.countplot(y = 'department',\n",
    "            data = sample_data_low_income, \n",
    "            palette=palette_color,\n",
    "            order = sample_data_low_income['department'].value_counts().iloc[:10].index)\n",
    "bar_department.set(\n",
    "            xlabel='Counts',\n",
    "            ylabel='Departments')\n",
    "plt.title('Comparison low income customers with Departments', weight='bold').set_fontsize('18')\n",
    "#export visualization\n",
    "plt.savefig(os.path.join(path, '04 Analysis','Visualizations', 'bar_comp_low_income_departments.png'))"
   ]
  },
  {
   "cell_type": "code",
   "execution_count": null,
   "id": "00c5a745",
   "metadata": {},
   "outputs": [],
   "source": [
    "#Save sample data of middle income customers in sample dataframe\n",
    "sample_data_middle_income=complete_data[complete_data['level_income']=='Middle income']"
   ]
  },
  {
   "cell_type": "code",
   "execution_count": null,
   "id": "58d8f9b8",
   "metadata": {},
   "outputs": [],
   "source": [
    "#create bar chart showing comparison of middle income customers on departments\n",
    "\n",
    "plt.figure(figsize=(10, 6))\n",
    "# define Seaborn color palette to use \n",
    "palette_color = ['#32CD32']\n",
    "#define column chart\n",
    "bar_department=sns.countplot(y = 'department',\n",
    "            data = sample_data_middle_income, \n",
    "            palette=palette_color,\n",
    "            order = sample_data_middle_income['department'].value_counts().iloc[:10].index)\n",
    "bar_department.set(\n",
    "            xlabel='Counts',\n",
    "            ylabel='Departments')\n",
    "plt.title('Comparison middle income customers with Departments', weight='bold').set_fontsize('18')\n",
    "#export visualization\n",
    "plt.savefig(os.path.join(path, '04 Analysis','Visualizations', 'bar_comp_mid_income_departments.png'))"
   ]
  },
  {
   "cell_type": "code",
   "execution_count": null,
   "id": "bb283fdb",
   "metadata": {},
   "outputs": [],
   "source": [
    "#Save sample data of middle income customers in sample dataframe\n",
    "sample_data_high_income=complete_data[complete_data['level_income']=='High income']"
   ]
  },
  {
   "cell_type": "code",
   "execution_count": null,
   "id": "9106a7bb",
   "metadata": {},
   "outputs": [],
   "source": [
    "#create bar chart showing comparison of middle income customers on departments\n",
    "\n",
    "plt.figure(figsize=(10, 6))\n",
    "# define Seaborn color palette to use \n",
    "palette_color = ['#32CD32']\n",
    "#define column chart\n",
    "bar_department=sns.countplot(y = 'department',\n",
    "            data = sample_data_high_income, \n",
    "            palette=palette_color,\n",
    "            order = sample_data_high_income['department'].value_counts().iloc[:10].index)\n",
    "bar_department.set(\n",
    "            xlabel='Counts',\n",
    "            ylabel='Departments')\n",
    "plt.title('Comparison high income customers with Departments', weight='bold').set_fontsize('18')\n",
    "#export visualization\n",
    "plt.savefig(os.path.join(path, '04 Analysis','Visualizations', 'bar_comp_high_income_departments.png'))"
   ]
  },
  {
   "cell_type": "markdown",
   "id": "24e154f4",
   "metadata": {},
   "source": [
    "### Conclusion:\n",
    "#### As the three visualizations show do they have the similar top 5 departments. On all three income groups produce is on first place. But second place with low income groups is snacks. Where with higher income groups its dairy and beverages products. Which shows the lower income groups go for cheaper and unhealthy products."
   ]
  },
  {
   "cell_type": "markdown",
   "id": "b94d9fde",
   "metadata": {},
   "source": [
    "## 7.4 Compare income with departments"
   ]
  },
  {
   "cell_type": "code",
   "execution_count": null,
   "id": "480268cb",
   "metadata": {},
   "outputs": [],
   "source": [
    "#create bar chart with comparison of dependants to departments. Show the top 10 departments per dependants group\n",
    "\n",
    "plt.figure(figsize=(10, 6))\n",
    "# define Seaborn color palette to use\n",
    "palette_color = ['#228B22','#32CD32']\n",
    "#define column chart\n",
    "bar_dependants_department=sns.countplot(y = 'department', \n",
    "            hue = 'dependants',\n",
    "            data = complete_data, \n",
    "            palette=palette_color,\n",
    "            order = complete_data['department'].value_counts().iloc[:10].index)\n",
    "bar_dependants_department.set(\n",
    "            xlabel='Counts',\n",
    "            ylabel='Departments')\n",
    "plt.title('Comparison Dependants Groups with Departments', weight='bold').set_fontsize('18')\n",
    "#export visualization\n",
    "plt.savefig(os.path.join(path, '04 Analysis','Visualizations', 'bar_comp_dependants_departments.png'))"
   ]
  },
  {
   "cell_type": "markdown",
   "id": "77e0bc96",
   "metadata": {},
   "source": [
    "#### no real difference in products between people with dependants or without. Just the amount is more but we know already that most people have at least one dependant."
   ]
  },
  {
   "cell_type": "markdown",
   "id": "257739ad",
   "metadata": {},
   "source": [
    "## 8. Export final dataframe set"
   ]
  },
  {
   "cell_type": "code",
   "execution_count": null,
   "id": "78b0c74b",
   "metadata": {},
   "outputs": [],
   "source": [
    "#export complete dataframe set to drive\n",
    "complete_data.to_pickle(os.path.join(path, '02 Data', 'Prepared Data', 'instacart_final_data.pkl'))"
   ]
  },
  {
   "cell_type": "code",
   "execution_count": null,
   "id": "d3712090",
   "metadata": {},
   "outputs": [],
   "source": []
  }
 ],
 "metadata": {
  "kernelspec": {
   "display_name": "Python 3 (ipykernel)",
   "language": "python",
   "name": "python3"
  },
  "language_info": {
   "codemirror_mode": {
    "name": "ipython",
    "version": 3
   },
   "file_extension": ".py",
   "mimetype": "text/x-python",
   "name": "python",
   "nbconvert_exporter": "python",
   "pygments_lexer": "ipython3",
   "version": "3.11.7"
  }
 },
 "nbformat": 4,
 "nbformat_minor": 5
}
