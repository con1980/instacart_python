{
 "cells": [
  {
   "cell_type": "markdown",
   "id": "34a1b9f3",
   "metadata": {},
   "source": [
    "## 01. Importing libraries"
   ]
  },
  {
   "cell_type": "code",
   "execution_count": 2,
   "id": "525e6ae4",
   "metadata": {},
   "outputs": [],
   "source": [
    "# Import libraries\n",
    "import pandas as pd\n",
    "import numpy as np\n",
    "import os"
   ]
  },
  {
   "cell_type": "markdown",
   "id": "1919e6b8",
   "metadata": {},
   "source": [
    "## Data types"
   ]
  },
  {
   "cell_type": "code",
   "execution_count": 20,
   "id": "cb8268f2",
   "metadata": {},
   "outputs": [],
   "source": [
    "x=90"
   ]
  },
  {
   "cell_type": "code",
   "execution_count": 21,
   "id": "4902134f",
   "metadata": {},
   "outputs": [],
   "source": [
    "z=10"
   ]
  },
  {
   "cell_type": "code",
   "execution_count": 22,
   "id": "55324072",
   "metadata": {},
   "outputs": [],
   "source": [
    "y=x+z"
   ]
  },
  {
   "cell_type": "code",
   "execution_count": 23,
   "id": "5b68b0ec",
   "metadata": {},
   "outputs": [],
   "source": [
    "a=(x*2)-80"
   ]
  },
  {
   "cell_type": "code",
   "execution_count": 24,
   "id": "eaa41c02",
   "metadata": {},
   "outputs": [
    {
     "data": {
      "text/plain": [
       "100"
      ]
     },
     "execution_count": 24,
     "metadata": {},
     "output_type": "execute_result"
    }
   ],
   "source": [
    "a"
   ]
  },
  {
   "cell_type": "code",
   "execution_count": 25,
   "id": "f658551e",
   "metadata": {},
   "outputs": [],
   "source": [
    "b=y+x-90"
   ]
  },
  {
   "cell_type": "code",
   "execution_count": 26,
   "id": "d6ce978b",
   "metadata": {},
   "outputs": [
    {
     "data": {
      "text/plain": [
       "100"
      ]
     },
     "execution_count": 26,
     "metadata": {},
     "output_type": "execute_result"
    }
   ],
   "source": [
    "b"
   ]
  },
  {
   "cell_type": "code",
   "execution_count": 27,
   "id": "78345026",
   "metadata": {},
   "outputs": [],
   "source": [
    "c=1.234"
   ]
  },
  {
   "cell_type": "code",
   "execution_count": 28,
   "id": "b9cabd7e",
   "metadata": {},
   "outputs": [],
   "source": [
    "d=5.678"
   ]
  },
  {
   "cell_type": "code",
   "execution_count": 29,
   "id": "0a683c29",
   "metadata": {},
   "outputs": [
    {
     "data": {
      "text/plain": [
       "0.2173300457907714"
      ]
     },
     "execution_count": 29,
     "metadata": {},
     "output_type": "execute_result"
    }
   ],
   "source": [
    "c/d"
   ]
  },
  {
   "cell_type": "code",
   "execution_count": 30,
   "id": "d49d0208",
   "metadata": {},
   "outputs": [],
   "source": [
    "e='Ban'"
   ]
  },
  {
   "cell_type": "code",
   "execution_count": 31,
   "id": "ac6b6673",
   "metadata": {},
   "outputs": [],
   "source": [
    "f='ana'"
   ]
  },
  {
   "cell_type": "code",
   "execution_count": 32,
   "id": "4f59d35d",
   "metadata": {},
   "outputs": [
    {
     "data": {
      "text/plain": [
       "'Banana'"
      ]
     },
     "execution_count": 32,
     "metadata": {},
     "output_type": "execute_result"
    }
   ],
   "source": [
    "e+f"
   ]
  },
  {
   "cell_type": "code",
   "execution_count": 34,
   "id": "060bbe44",
   "metadata": {},
   "outputs": [
    {
     "data": {
      "text/plain": [
       "'I like Banana'"
      ]
     },
     "execution_count": 34,
     "metadata": {},
     "output_type": "execute_result"
    }
   ],
   "source": [
    "'I '+'like '+e+f"
   ]
  },
  {
   "cell_type": "code",
   "execution_count": 35,
   "id": "e77c036a",
   "metadata": {},
   "outputs": [
    {
     "data": {
      "text/plain": [
       "'Python Python Python Python Python Python Python Python Python Python Python Python Python Python Python Python Python Python Python Python Python Python Python Python Python Python Python Python Python Python Python Python Python Python Python Python Python Python Python Python Python Python Python Python Python Python Python Python Python Python Python Python Python Python Python Python Python Python Python Python Python Python Python Python Python Python Python Python Python Python Python Python Python Python Python Python Python Python Python Python Python Python Python Python Python Python Python Python Python Python Python Python Python Python Python Python Python Python Python Python '"
      ]
     },
     "execution_count": 35,
     "metadata": {},
     "output_type": "execute_result"
    }
   ],
   "source": [
    "'Python '*100"
   ]
  },
  {
   "cell_type": "code",
   "execution_count": null,
   "id": "4702b4d8",
   "metadata": {},
   "outputs": [],
   "source": []
  }
 ],
 "metadata": {
  "kernelspec": {
   "display_name": "Python 3 (ipykernel)",
   "language": "python",
   "name": "python3"
  },
  "language_info": {
   "codemirror_mode": {
    "name": "ipython",
    "version": 3
   },
   "file_extension": ".py",
   "mimetype": "text/x-python",
   "name": "python",
   "nbconvert_exporter": "python",
   "pygments_lexer": "ipython3",
   "version": "3.11.7"
  }
 },
 "nbformat": 4,
 "nbformat_minor": 5
}
